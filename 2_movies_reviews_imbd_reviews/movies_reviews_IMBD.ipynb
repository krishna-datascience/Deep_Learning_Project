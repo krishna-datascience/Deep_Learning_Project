{
 "cells": [
  {
   "cell_type": "code",
   "execution_count": 8,
   "metadata": {},
   "outputs": [],
   "source": [
    "\n",
    "import tensorflow as tf # pip install tensorflow --upgrade\n",
    "import tensorflow_datasets as tfds  # pip install tensorflow_datasets\n",
    "import tensorflow_hub as hub  #pip install tensorflow_hub"
   ]
  },
  {
   "cell_type": "markdown",
   "metadata": {},
   "source": [
    "## TENSORFLOW HUB\n",
    "TensorFlow Hub is a library for the publication, discovery, and consumption of reusable parts of machine learning models. A module is a self-contained piece of a TensorFlow graph, along with its weights and assets, that can be reused across different tasks in a process known as transfer learning. Transfer learning can:\n",
    "   \n",
    "   -Train a model with a smaller dataset,\n",
    "   \n",
    "   -Improve generalization, and\n",
    "   \n",
    "   -Speed up training."
   ]
  },
  {
   "cell_type": "code",
   "execution_count": 9,
   "metadata": {},
   "outputs": [
    {
     "data": {
      "text/plain": [
       "'2.0.0'"
      ]
     },
     "execution_count": 9,
     "metadata": {},
     "output_type": "execute_result"
    }
   ],
   "source": [
    "tf.__version__"
   ]
  },
  {
   "cell_type": "code",
   "execution_count": 22,
   "metadata": {},
   "outputs": [
    {
     "data": {
      "text/plain": [
       "['abstract_reasoning',\n",
       " 'aeslc',\n",
       " 'aflw2k3d',\n",
       " 'amazon_us_reviews',\n",
       " 'bair_robot_pushing_small',\n",
       " 'big_patent',\n",
       " 'bigearthnet',\n",
       " 'billsum',\n",
       " 'binarized_mnist',\n",
       " 'binary_alpha_digits',\n",
       " 'c4',\n",
       " 'caltech101',\n",
       " 'caltech_birds2010',\n",
       " 'caltech_birds2011',\n",
       " 'cars196',\n",
       " 'cassava',\n",
       " 'cats_vs_dogs',\n",
       " 'celeb_a',\n",
       " 'celeb_a_hq',\n",
       " 'chexpert',\n",
       " 'cifar10',\n",
       " 'cifar100',\n",
       " 'cifar10_1',\n",
       " 'cifar10_corrupted',\n",
       " 'clevr',\n",
       " 'cmaterdb',\n",
       " 'cnn_dailymail',\n",
       " 'coco',\n",
       " 'coco2014',\n",
       " 'coil100',\n",
       " 'colorectal_histology',\n",
       " 'colorectal_histology_large',\n",
       " 'curated_breast_imaging_ddsm',\n",
       " 'cycle_gan',\n",
       " 'deep_weeds',\n",
       " 'definite_pronoun_resolution',\n",
       " 'diabetic_retinopathy_detection',\n",
       " 'downsampled_imagenet',\n",
       " 'dsprites',\n",
       " 'dtd',\n",
       " 'dummy_dataset_shared_generator',\n",
       " 'dummy_mnist',\n",
       " 'emnist',\n",
       " 'eurosat',\n",
       " 'fashion_mnist',\n",
       " 'flores',\n",
       " 'food101',\n",
       " 'gap',\n",
       " 'gigaword',\n",
       " 'glue',\n",
       " 'groove',\n",
       " 'higgs',\n",
       " 'horses_or_humans',\n",
       " 'image_label_folder',\n",
       " 'imagenet2012',\n",
       " 'imagenet2012_corrupted',\n",
       " 'imagenet_resized',\n",
       " 'imdb_reviews',\n",
       " 'iris',\n",
       " 'kitti',\n",
       " 'kmnist',\n",
       " 'lfw',\n",
       " 'lm1b',\n",
       " 'lsun',\n",
       " 'malaria',\n",
       " 'mnist',\n",
       " 'mnist_corrupted',\n",
       " 'moving_mnist',\n",
       " 'multi_news',\n",
       " 'multi_nli',\n",
       " 'multi_nli_mismatch',\n",
       " 'newsroom',\n",
       " 'nsynth',\n",
       " 'omniglot',\n",
       " 'open_images_v4',\n",
       " 'oxford_flowers102',\n",
       " 'oxford_iiit_pet',\n",
       " 'para_crawl',\n",
       " 'patch_camelyon',\n",
       " 'pet_finder',\n",
       " 'places365_small',\n",
       " 'quickdraw_bitmap',\n",
       " 'reddit_tifu',\n",
       " 'resisc45',\n",
       " 'rock_paper_scissors',\n",
       " 'rock_you',\n",
       " 'scene_parse150',\n",
       " 'scientific_papers',\n",
       " 'shapes3d',\n",
       " 'smallnorb',\n",
       " 'snli',\n",
       " 'so2sat',\n",
       " 'squad',\n",
       " 'stanford_dogs',\n",
       " 'stanford_online_products',\n",
       " 'starcraft_video',\n",
       " 'sun397',\n",
       " 'super_glue',\n",
       " 'svhn_cropped',\n",
       " 'ted_hrlr_translate',\n",
       " 'ted_multi_translate',\n",
       " 'tf_flowers',\n",
       " 'the300w_lp',\n",
       " 'titanic',\n",
       " 'trivia_qa',\n",
       " 'uc_merced',\n",
       " 'ucf101',\n",
       " 'visual_domain_decathlon',\n",
       " 'voc',\n",
       " 'wider_face',\n",
       " 'wikihow',\n",
       " 'wikipedia',\n",
       " 'wmt14_translate',\n",
       " 'wmt15_translate',\n",
       " 'wmt16_translate',\n",
       " 'wmt17_translate',\n",
       " 'wmt18_translate',\n",
       " 'wmt19_translate',\n",
       " 'wmt_t2t_translate',\n",
       " 'wmt_translate',\n",
       " 'xnli',\n",
       " 'xsum']"
      ]
     },
     "execution_count": 22,
     "metadata": {},
     "output_type": "execute_result"
    }
   ],
   "source": [
    "tfds.list_builders()  # IN TENSORFLOW HAVING  MANY DATASETS BUT WE ARE USING IMBD_REVIEWS DATASETS."
   ]
  },
  {
   "cell_type": "markdown",
   "metadata": {},
   "source": [
    "## ABOUT TRAINING DATA, VALIDATION DATA AND TESTING DATA\n",
    "When a large amount of data is at hand, a set of samples can be set aside to evaluate the final model. The “training” data set is the general term for the samples used to create the model, while the “test” or “validation” data set is used to qualify performance.\n",
    "\n",
    "\n",
    "A validation dataset is a sample of data held back from training your model that is used to give an estimate of model skill while tuning model’s hyperparameters.\n",
    "\n",
    "\n",
    "The validation dataset is different from the test dataset that is also held back from the training of the model, but is instead used to give an unbiased estimate of the skill of the final tuned model when comparing or selecting between final models.\n",
    "\n",
    "\n",
    "There is much confusion in applied machine learning about what a validation dataset is exactly and how it differs from a test dataset."
   ]
  },
  {
   "cell_type": "code",
   "execution_count": 11,
   "metadata": {},
   "outputs": [
    {
     "name": "stdout",
     "output_type": "stream",
     "text": [
      "Downloading and preparing dataset imdb_reviews (80.23 MiB) to C:\\Users\\ABHI\\tensorflow_datasets\\imdb_reviews\\plain_text\\0.1.0...\n"
     ]
    },
    {
     "data": {
      "application/vnd.jupyter.widget-view+json": {
       "model_id": "0022e5caa8894530a3db19aac1d2e08e",
       "version_major": 2,
       "version_minor": 0
      },
      "text/plain": [
       "HBox(children=(IntProgress(value=1, bar_style='info', description='Dl Completed...', max=1, style=ProgressStyl…"
      ]
     },
     "metadata": {},
     "output_type": "display_data"
    },
    {
     "data": {
      "application/vnd.jupyter.widget-view+json": {
       "model_id": "64518949188b4c11b362b447592f9a28",
       "version_major": 2,
       "version_minor": 0
      },
      "text/plain": [
       "HBox(children=(IntProgress(value=1, bar_style='info', description='Dl Size...', max=1, style=ProgressStyle(des…"
      ]
     },
     "metadata": {},
     "output_type": "display_data"
    },
    {
     "name": "stdout",
     "output_type": "stream",
     "text": [
      "\n",
      "\n",
      "\n"
     ]
    },
    {
     "data": {
      "application/vnd.jupyter.widget-view+json": {
       "model_id": "",
       "version_major": 2,
       "version_minor": 0
      },
      "text/plain": [
       "HBox(children=(IntProgress(value=1, bar_style='info', max=1), HTML(value='')))"
      ]
     },
     "metadata": {},
     "output_type": "display_data"
    },
    {
     "name": "stdout",
     "output_type": "stream",
     "text": [
      "\r"
     ]
    },
    {
     "data": {
      "application/vnd.jupyter.widget-view+json": {
       "model_id": "",
       "version_major": 2,
       "version_minor": 0
      },
      "text/plain": [
       "HBox(children=(IntProgress(value=0, description='Shuffling...', max=10, style=ProgressStyle(description_width=…"
      ]
     },
     "metadata": {},
     "output_type": "display_data"
    },
    {
     "name": "stdout",
     "output_type": "stream",
     "text": [
      "WARNING:tensorflow:From C:\\Users\\ABHI\\Anaconda3\\lib\\site-packages\\tensorflow_datasets\\core\\file_format_adapter.py:209: tf_record_iterator (from tensorflow.python.lib.io.tf_record) is deprecated and will be removed in a future version.\n",
      "Instructions for updating:\n",
      "Use eager execution and: \n",
      "`tf.data.TFRecordDataset(path)`\n"
     ]
    },
    {
     "name": "stderr",
     "output_type": "stream",
     "text": [
      "WARNING:tensorflow:From C:\\Users\\ABHI\\Anaconda3\\lib\\site-packages\\tensorflow_datasets\\core\\file_format_adapter.py:209: tf_record_iterator (from tensorflow.python.lib.io.tf_record) is deprecated and will be removed in a future version.\n",
      "Instructions for updating:\n",
      "Use eager execution and: \n",
      "`tf.data.TFRecordDataset(path)`\n"
     ]
    },
    {
     "data": {
      "application/vnd.jupyter.widget-view+json": {
       "model_id": "",
       "version_major": 2,
       "version_minor": 0
      },
      "text/plain": [
       "HBox(children=(IntProgress(value=1, bar_style='info', description='Reading...', max=1, style=ProgressStyle(des…"
      ]
     },
     "metadata": {},
     "output_type": "display_data"
    },
    {
     "data": {
      "application/vnd.jupyter.widget-view+json": {
       "model_id": "",
       "version_major": 2,
       "version_minor": 0
      },
      "text/plain": [
       "HBox(children=(IntProgress(value=0, description='Writing...', max=2500, style=ProgressStyle(description_width=…"
      ]
     },
     "metadata": {},
     "output_type": "display_data"
    },
    {
     "data": {
      "application/vnd.jupyter.widget-view+json": {
       "model_id": "",
       "version_major": 2,
       "version_minor": 0
      },
      "text/plain": [
       "HBox(children=(IntProgress(value=1, bar_style='info', description='Reading...', max=1, style=ProgressStyle(des…"
      ]
     },
     "metadata": {},
     "output_type": "display_data"
    },
    {
     "data": {
      "application/vnd.jupyter.widget-view+json": {
       "model_id": "",
       "version_major": 2,
       "version_minor": 0
      },
      "text/plain": [
       "HBox(children=(IntProgress(value=0, description='Writing...', max=2500, style=ProgressStyle(description_width=…"
      ]
     },
     "metadata": {},
     "output_type": "display_data"
    },
    {
     "data": {
      "application/vnd.jupyter.widget-view+json": {
       "model_id": "",
       "version_major": 2,
       "version_minor": 0
      },
      "text/plain": [
       "HBox(children=(IntProgress(value=1, bar_style='info', description='Reading...', max=1, style=ProgressStyle(des…"
      ]
     },
     "metadata": {},
     "output_type": "display_data"
    },
    {
     "data": {
      "application/vnd.jupyter.widget-view+json": {
       "model_id": "",
       "version_major": 2,
       "version_minor": 0
      },
      "text/plain": [
       "HBox(children=(IntProgress(value=0, description='Writing...', max=2500, style=ProgressStyle(description_width=…"
      ]
     },
     "metadata": {},
     "output_type": "display_data"
    },
    {
     "data": {
      "application/vnd.jupyter.widget-view+json": {
       "model_id": "",
       "version_major": 2,
       "version_minor": 0
      },
      "text/plain": [
       "HBox(children=(IntProgress(value=1, bar_style='info', description='Reading...', max=1, style=ProgressStyle(des…"
      ]
     },
     "metadata": {},
     "output_type": "display_data"
    },
    {
     "data": {
      "application/vnd.jupyter.widget-view+json": {
       "model_id": "",
       "version_major": 2,
       "version_minor": 0
      },
      "text/plain": [
       "HBox(children=(IntProgress(value=0, description='Writing...', max=2500, style=ProgressStyle(description_width=…"
      ]
     },
     "metadata": {},
     "output_type": "display_data"
    },
    {
     "data": {
      "application/vnd.jupyter.widget-view+json": {
       "model_id": "",
       "version_major": 2,
       "version_minor": 0
      },
      "text/plain": [
       "HBox(children=(IntProgress(value=1, bar_style='info', description='Reading...', max=1, style=ProgressStyle(des…"
      ]
     },
     "metadata": {},
     "output_type": "display_data"
    },
    {
     "data": {
      "application/vnd.jupyter.widget-view+json": {
       "model_id": "",
       "version_major": 2,
       "version_minor": 0
      },
      "text/plain": [
       "HBox(children=(IntProgress(value=0, description='Writing...', max=2500, style=ProgressStyle(description_width=…"
      ]
     },
     "metadata": {},
     "output_type": "display_data"
    },
    {
     "data": {
      "application/vnd.jupyter.widget-view+json": {
       "model_id": "",
       "version_major": 2,
       "version_minor": 0
      },
      "text/plain": [
       "HBox(children=(IntProgress(value=1, bar_style='info', description='Reading...', max=1, style=ProgressStyle(des…"
      ]
     },
     "metadata": {},
     "output_type": "display_data"
    },
    {
     "data": {
      "application/vnd.jupyter.widget-view+json": {
       "model_id": "",
       "version_major": 2,
       "version_minor": 0
      },
      "text/plain": [
       "HBox(children=(IntProgress(value=0, description='Writing...', max=2500, style=ProgressStyle(description_width=…"
      ]
     },
     "metadata": {},
     "output_type": "display_data"
    },
    {
     "data": {
      "application/vnd.jupyter.widget-view+json": {
       "model_id": "",
       "version_major": 2,
       "version_minor": 0
      },
      "text/plain": [
       "HBox(children=(IntProgress(value=1, bar_style='info', description='Reading...', max=1, style=ProgressStyle(des…"
      ]
     },
     "metadata": {},
     "output_type": "display_data"
    },
    {
     "data": {
      "application/vnd.jupyter.widget-view+json": {
       "model_id": "",
       "version_major": 2,
       "version_minor": 0
      },
      "text/plain": [
       "HBox(children=(IntProgress(value=0, description='Writing...', max=2500, style=ProgressStyle(description_width=…"
      ]
     },
     "metadata": {},
     "output_type": "display_data"
    },
    {
     "data": {
      "application/vnd.jupyter.widget-view+json": {
       "model_id": "",
       "version_major": 2,
       "version_minor": 0
      },
      "text/plain": [
       "HBox(children=(IntProgress(value=1, bar_style='info', description='Reading...', max=1, style=ProgressStyle(des…"
      ]
     },
     "metadata": {},
     "output_type": "display_data"
    },
    {
     "data": {
      "application/vnd.jupyter.widget-view+json": {
       "model_id": "",
       "version_major": 2,
       "version_minor": 0
      },
      "text/plain": [
       "HBox(children=(IntProgress(value=0, description='Writing...', max=2500, style=ProgressStyle(description_width=…"
      ]
     },
     "metadata": {},
     "output_type": "display_data"
    },
    {
     "data": {
      "application/vnd.jupyter.widget-view+json": {
       "model_id": "",
       "version_major": 2,
       "version_minor": 0
      },
      "text/plain": [
       "HBox(children=(IntProgress(value=1, bar_style='info', description='Reading...', max=1, style=ProgressStyle(des…"
      ]
     },
     "metadata": {},
     "output_type": "display_data"
    },
    {
     "data": {
      "application/vnd.jupyter.widget-view+json": {
       "model_id": "",
       "version_major": 2,
       "version_minor": 0
      },
      "text/plain": [
       "HBox(children=(IntProgress(value=0, description='Writing...', max=2500, style=ProgressStyle(description_width=…"
      ]
     },
     "metadata": {},
     "output_type": "display_data"
    },
    {
     "data": {
      "application/vnd.jupyter.widget-view+json": {
       "model_id": "",
       "version_major": 2,
       "version_minor": 0
      },
      "text/plain": [
       "HBox(children=(IntProgress(value=1, bar_style='info', description='Reading...', max=1, style=ProgressStyle(des…"
      ]
     },
     "metadata": {},
     "output_type": "display_data"
    },
    {
     "data": {
      "application/vnd.jupyter.widget-view+json": {
       "model_id": "",
       "version_major": 2,
       "version_minor": 0
      },
      "text/plain": [
       "HBox(children=(IntProgress(value=0, description='Writing...', max=2500, style=ProgressStyle(description_width=…"
      ]
     },
     "metadata": {},
     "output_type": "display_data"
    },
    {
     "name": "stdout",
     "output_type": "stream",
     "text": [
      "\r"
     ]
    },
    {
     "data": {
      "application/vnd.jupyter.widget-view+json": {
       "model_id": "",
       "version_major": 2,
       "version_minor": 0
      },
      "text/plain": [
       "HBox(children=(IntProgress(value=1, bar_style='info', max=1), HTML(value='')))"
      ]
     },
     "metadata": {},
     "output_type": "display_data"
    },
    {
     "name": "stdout",
     "output_type": "stream",
     "text": [
      "\r"
     ]
    },
    {
     "data": {
      "application/vnd.jupyter.widget-view+json": {
       "model_id": "",
       "version_major": 2,
       "version_minor": 0
      },
      "text/plain": [
       "HBox(children=(IntProgress(value=0, description='Shuffling...', max=10, style=ProgressStyle(description_width=…"
      ]
     },
     "metadata": {},
     "output_type": "display_data"
    },
    {
     "data": {
      "application/vnd.jupyter.widget-view+json": {
       "model_id": "",
       "version_major": 2,
       "version_minor": 0
      },
      "text/plain": [
       "HBox(children=(IntProgress(value=1, bar_style='info', description='Reading...', max=1, style=ProgressStyle(des…"
      ]
     },
     "metadata": {},
     "output_type": "display_data"
    },
    {
     "data": {
      "application/vnd.jupyter.widget-view+json": {
       "model_id": "",
       "version_major": 2,
       "version_minor": 0
      },
      "text/plain": [
       "HBox(children=(IntProgress(value=0, description='Writing...', max=2500, style=ProgressStyle(description_width=…"
      ]
     },
     "metadata": {},
     "output_type": "display_data"
    },
    {
     "data": {
      "application/vnd.jupyter.widget-view+json": {
       "model_id": "",
       "version_major": 2,
       "version_minor": 0
      },
      "text/plain": [
       "HBox(children=(IntProgress(value=1, bar_style='info', description='Reading...', max=1, style=ProgressStyle(des…"
      ]
     },
     "metadata": {},
     "output_type": "display_data"
    },
    {
     "data": {
      "application/vnd.jupyter.widget-view+json": {
       "model_id": "",
       "version_major": 2,
       "version_minor": 0
      },
      "text/plain": [
       "HBox(children=(IntProgress(value=0, description='Writing...', max=2500, style=ProgressStyle(description_width=…"
      ]
     },
     "metadata": {},
     "output_type": "display_data"
    },
    {
     "data": {
      "application/vnd.jupyter.widget-view+json": {
       "model_id": "",
       "version_major": 2,
       "version_minor": 0
      },
      "text/plain": [
       "HBox(children=(IntProgress(value=1, bar_style='info', description='Reading...', max=1, style=ProgressStyle(des…"
      ]
     },
     "metadata": {},
     "output_type": "display_data"
    },
    {
     "data": {
      "application/vnd.jupyter.widget-view+json": {
       "model_id": "",
       "version_major": 2,
       "version_minor": 0
      },
      "text/plain": [
       "HBox(children=(IntProgress(value=0, description='Writing...', max=2500, style=ProgressStyle(description_width=…"
      ]
     },
     "metadata": {},
     "output_type": "display_data"
    },
    {
     "data": {
      "application/vnd.jupyter.widget-view+json": {
       "model_id": "",
       "version_major": 2,
       "version_minor": 0
      },
      "text/plain": [
       "HBox(children=(IntProgress(value=1, bar_style='info', description='Reading...', max=1, style=ProgressStyle(des…"
      ]
     },
     "metadata": {},
     "output_type": "display_data"
    },
    {
     "data": {
      "application/vnd.jupyter.widget-view+json": {
       "model_id": "",
       "version_major": 2,
       "version_minor": 0
      },
      "text/plain": [
       "HBox(children=(IntProgress(value=0, description='Writing...', max=2500, style=ProgressStyle(description_width=…"
      ]
     },
     "metadata": {},
     "output_type": "display_data"
    },
    {
     "data": {
      "application/vnd.jupyter.widget-view+json": {
       "model_id": "",
       "version_major": 2,
       "version_minor": 0
      },
      "text/plain": [
       "HBox(children=(IntProgress(value=1, bar_style='info', description='Reading...', max=1, style=ProgressStyle(des…"
      ]
     },
     "metadata": {},
     "output_type": "display_data"
    },
    {
     "data": {
      "application/vnd.jupyter.widget-view+json": {
       "model_id": "",
       "version_major": 2,
       "version_minor": 0
      },
      "text/plain": [
       "HBox(children=(IntProgress(value=0, description='Writing...', max=2500, style=ProgressStyle(description_width=…"
      ]
     },
     "metadata": {},
     "output_type": "display_data"
    },
    {
     "data": {
      "application/vnd.jupyter.widget-view+json": {
       "model_id": "",
       "version_major": 2,
       "version_minor": 0
      },
      "text/plain": [
       "HBox(children=(IntProgress(value=1, bar_style='info', description='Reading...', max=1, style=ProgressStyle(des…"
      ]
     },
     "metadata": {},
     "output_type": "display_data"
    },
    {
     "data": {
      "application/vnd.jupyter.widget-view+json": {
       "model_id": "",
       "version_major": 2,
       "version_minor": 0
      },
      "text/plain": [
       "HBox(children=(IntProgress(value=0, description='Writing...', max=2500, style=ProgressStyle(description_width=…"
      ]
     },
     "metadata": {},
     "output_type": "display_data"
    },
    {
     "data": {
      "application/vnd.jupyter.widget-view+json": {
       "model_id": "",
       "version_major": 2,
       "version_minor": 0
      },
      "text/plain": [
       "HBox(children=(IntProgress(value=1, bar_style='info', description='Reading...', max=1, style=ProgressStyle(des…"
      ]
     },
     "metadata": {},
     "output_type": "display_data"
    },
    {
     "data": {
      "application/vnd.jupyter.widget-view+json": {
       "model_id": "",
       "version_major": 2,
       "version_minor": 0
      },
      "text/plain": [
       "HBox(children=(IntProgress(value=0, description='Writing...', max=2500, style=ProgressStyle(description_width=…"
      ]
     },
     "metadata": {},
     "output_type": "display_data"
    },
    {
     "data": {
      "application/vnd.jupyter.widget-view+json": {
       "model_id": "",
       "version_major": 2,
       "version_minor": 0
      },
      "text/plain": [
       "HBox(children=(IntProgress(value=1, bar_style='info', description='Reading...', max=1, style=ProgressStyle(des…"
      ]
     },
     "metadata": {},
     "output_type": "display_data"
    },
    {
     "data": {
      "application/vnd.jupyter.widget-view+json": {
       "model_id": "",
       "version_major": 2,
       "version_minor": 0
      },
      "text/plain": [
       "HBox(children=(IntProgress(value=0, description='Writing...', max=2500, style=ProgressStyle(description_width=…"
      ]
     },
     "metadata": {},
     "output_type": "display_data"
    },
    {
     "data": {
      "application/vnd.jupyter.widget-view+json": {
       "model_id": "",
       "version_major": 2,
       "version_minor": 0
      },
      "text/plain": [
       "HBox(children=(IntProgress(value=1, bar_style='info', description='Reading...', max=1, style=ProgressStyle(des…"
      ]
     },
     "metadata": {},
     "output_type": "display_data"
    },
    {
     "data": {
      "application/vnd.jupyter.widget-view+json": {
       "model_id": "",
       "version_major": 2,
       "version_minor": 0
      },
      "text/plain": [
       "HBox(children=(IntProgress(value=0, description='Writing...', max=2500, style=ProgressStyle(description_width=…"
      ]
     },
     "metadata": {},
     "output_type": "display_data"
    },
    {
     "data": {
      "application/vnd.jupyter.widget-view+json": {
       "model_id": "",
       "version_major": 2,
       "version_minor": 0
      },
      "text/plain": [
       "HBox(children=(IntProgress(value=1, bar_style='info', description='Reading...', max=1, style=ProgressStyle(des…"
      ]
     },
     "metadata": {},
     "output_type": "display_data"
    },
    {
     "data": {
      "application/vnd.jupyter.widget-view+json": {
       "model_id": "",
       "version_major": 2,
       "version_minor": 0
      },
      "text/plain": [
       "HBox(children=(IntProgress(value=0, description='Writing...', max=2500, style=ProgressStyle(description_width=…"
      ]
     },
     "metadata": {},
     "output_type": "display_data"
    },
    {
     "name": "stdout",
     "output_type": "stream",
     "text": [
      "\r"
     ]
    },
    {
     "data": {
      "application/vnd.jupyter.widget-view+json": {
       "model_id": "",
       "version_major": 2,
       "version_minor": 0
      },
      "text/plain": [
       "HBox(children=(IntProgress(value=1, bar_style='info', max=1), HTML(value='')))"
      ]
     },
     "metadata": {},
     "output_type": "display_data"
    },
    {
     "name": "stdout",
     "output_type": "stream",
     "text": [
      "\r"
     ]
    },
    {
     "data": {
      "application/vnd.jupyter.widget-view+json": {
       "model_id": "",
       "version_major": 2,
       "version_minor": 0
      },
      "text/plain": [
       "HBox(children=(IntProgress(value=0, description='Shuffling...', max=20, style=ProgressStyle(description_width=…"
      ]
     },
     "metadata": {},
     "output_type": "display_data"
    },
    {
     "data": {
      "application/vnd.jupyter.widget-view+json": {
       "model_id": "",
       "version_major": 2,
       "version_minor": 0
      },
      "text/plain": [
       "HBox(children=(IntProgress(value=1, bar_style='info', description='Reading...', max=1, style=ProgressStyle(des…"
      ]
     },
     "metadata": {},
     "output_type": "display_data"
    },
    {
     "data": {
      "application/vnd.jupyter.widget-view+json": {
       "model_id": "",
       "version_major": 2,
       "version_minor": 0
      },
      "text/plain": [
       "HBox(children=(IntProgress(value=0, description='Writing...', max=2500, style=ProgressStyle(description_width=…"
      ]
     },
     "metadata": {},
     "output_type": "display_data"
    },
    {
     "data": {
      "application/vnd.jupyter.widget-view+json": {
       "model_id": "",
       "version_major": 2,
       "version_minor": 0
      },
      "text/plain": [
       "HBox(children=(IntProgress(value=1, bar_style='info', description='Reading...', max=1, style=ProgressStyle(des…"
      ]
     },
     "metadata": {},
     "output_type": "display_data"
    },
    {
     "data": {
      "application/vnd.jupyter.widget-view+json": {
       "model_id": "",
       "version_major": 2,
       "version_minor": 0
      },
      "text/plain": [
       "HBox(children=(IntProgress(value=0, description='Writing...', max=2500, style=ProgressStyle(description_width=…"
      ]
     },
     "metadata": {},
     "output_type": "display_data"
    },
    {
     "data": {
      "application/vnd.jupyter.widget-view+json": {
       "model_id": "",
       "version_major": 2,
       "version_minor": 0
      },
      "text/plain": [
       "HBox(children=(IntProgress(value=1, bar_style='info', description='Reading...', max=1, style=ProgressStyle(des…"
      ]
     },
     "metadata": {},
     "output_type": "display_data"
    },
    {
     "data": {
      "application/vnd.jupyter.widget-view+json": {
       "model_id": "",
       "version_major": 2,
       "version_minor": 0
      },
      "text/plain": [
       "HBox(children=(IntProgress(value=0, description='Writing...', max=2500, style=ProgressStyle(description_width=…"
      ]
     },
     "metadata": {},
     "output_type": "display_data"
    },
    {
     "data": {
      "application/vnd.jupyter.widget-view+json": {
       "model_id": "",
       "version_major": 2,
       "version_minor": 0
      },
      "text/plain": [
       "HBox(children=(IntProgress(value=1, bar_style='info', description='Reading...', max=1, style=ProgressStyle(des…"
      ]
     },
     "metadata": {},
     "output_type": "display_data"
    },
    {
     "data": {
      "application/vnd.jupyter.widget-view+json": {
       "model_id": "",
       "version_major": 2,
       "version_minor": 0
      },
      "text/plain": [
       "HBox(children=(IntProgress(value=0, description='Writing...', max=2500, style=ProgressStyle(description_width=…"
      ]
     },
     "metadata": {},
     "output_type": "display_data"
    },
    {
     "data": {
      "application/vnd.jupyter.widget-view+json": {
       "model_id": "",
       "version_major": 2,
       "version_minor": 0
      },
      "text/plain": [
       "HBox(children=(IntProgress(value=1, bar_style='info', description='Reading...', max=1, style=ProgressStyle(des…"
      ]
     },
     "metadata": {},
     "output_type": "display_data"
    },
    {
     "data": {
      "application/vnd.jupyter.widget-view+json": {
       "model_id": "",
       "version_major": 2,
       "version_minor": 0
      },
      "text/plain": [
       "HBox(children=(IntProgress(value=0, description='Writing...', max=2500, style=ProgressStyle(description_width=…"
      ]
     },
     "metadata": {},
     "output_type": "display_data"
    },
    {
     "data": {
      "application/vnd.jupyter.widget-view+json": {
       "model_id": "",
       "version_major": 2,
       "version_minor": 0
      },
      "text/plain": [
       "HBox(children=(IntProgress(value=1, bar_style='info', description='Reading...', max=1, style=ProgressStyle(des…"
      ]
     },
     "metadata": {},
     "output_type": "display_data"
    },
    {
     "data": {
      "application/vnd.jupyter.widget-view+json": {
       "model_id": "",
       "version_major": 2,
       "version_minor": 0
      },
      "text/plain": [
       "HBox(children=(IntProgress(value=0, description='Writing...', max=2500, style=ProgressStyle(description_width=…"
      ]
     },
     "metadata": {},
     "output_type": "display_data"
    },
    {
     "data": {
      "application/vnd.jupyter.widget-view+json": {
       "model_id": "",
       "version_major": 2,
       "version_minor": 0
      },
      "text/plain": [
       "HBox(children=(IntProgress(value=1, bar_style='info', description='Reading...', max=1, style=ProgressStyle(des…"
      ]
     },
     "metadata": {},
     "output_type": "display_data"
    },
    {
     "data": {
      "application/vnd.jupyter.widget-view+json": {
       "model_id": "",
       "version_major": 2,
       "version_minor": 0
      },
      "text/plain": [
       "HBox(children=(IntProgress(value=0, description='Writing...', max=2500, style=ProgressStyle(description_width=…"
      ]
     },
     "metadata": {},
     "output_type": "display_data"
    },
    {
     "data": {
      "application/vnd.jupyter.widget-view+json": {
       "model_id": "",
       "version_major": 2,
       "version_minor": 0
      },
      "text/plain": [
       "HBox(children=(IntProgress(value=1, bar_style='info', description='Reading...', max=1, style=ProgressStyle(des…"
      ]
     },
     "metadata": {},
     "output_type": "display_data"
    },
    {
     "data": {
      "application/vnd.jupyter.widget-view+json": {
       "model_id": "",
       "version_major": 2,
       "version_minor": 0
      },
      "text/plain": [
       "HBox(children=(IntProgress(value=0, description='Writing...', max=2500, style=ProgressStyle(description_width=…"
      ]
     },
     "metadata": {},
     "output_type": "display_data"
    },
    {
     "data": {
      "application/vnd.jupyter.widget-view+json": {
       "model_id": "",
       "version_major": 2,
       "version_minor": 0
      },
      "text/plain": [
       "HBox(children=(IntProgress(value=1, bar_style='info', description='Reading...', max=1, style=ProgressStyle(des…"
      ]
     },
     "metadata": {},
     "output_type": "display_data"
    },
    {
     "data": {
      "application/vnd.jupyter.widget-view+json": {
       "model_id": "",
       "version_major": 2,
       "version_minor": 0
      },
      "text/plain": [
       "HBox(children=(IntProgress(value=0, description='Writing...', max=2500, style=ProgressStyle(description_width=…"
      ]
     },
     "metadata": {},
     "output_type": "display_data"
    },
    {
     "data": {
      "application/vnd.jupyter.widget-view+json": {
       "model_id": "",
       "version_major": 2,
       "version_minor": 0
      },
      "text/plain": [
       "HBox(children=(IntProgress(value=1, bar_style='info', description='Reading...', max=1, style=ProgressStyle(des…"
      ]
     },
     "metadata": {},
     "output_type": "display_data"
    },
    {
     "data": {
      "application/vnd.jupyter.widget-view+json": {
       "model_id": "",
       "version_major": 2,
       "version_minor": 0
      },
      "text/plain": [
       "HBox(children=(IntProgress(value=0, description='Writing...', max=2500, style=ProgressStyle(description_width=…"
      ]
     },
     "metadata": {},
     "output_type": "display_data"
    },
    {
     "data": {
      "application/vnd.jupyter.widget-view+json": {
       "model_id": "",
       "version_major": 2,
       "version_minor": 0
      },
      "text/plain": [
       "HBox(children=(IntProgress(value=1, bar_style='info', description='Reading...', max=1, style=ProgressStyle(des…"
      ]
     },
     "metadata": {},
     "output_type": "display_data"
    },
    {
     "data": {
      "application/vnd.jupyter.widget-view+json": {
       "model_id": "",
       "version_major": 2,
       "version_minor": 0
      },
      "text/plain": [
       "HBox(children=(IntProgress(value=0, description='Writing...', max=2500, style=ProgressStyle(description_width=…"
      ]
     },
     "metadata": {},
     "output_type": "display_data"
    },
    {
     "data": {
      "application/vnd.jupyter.widget-view+json": {
       "model_id": "",
       "version_major": 2,
       "version_minor": 0
      },
      "text/plain": [
       "HBox(children=(IntProgress(value=1, bar_style='info', description='Reading...', max=1, style=ProgressStyle(des…"
      ]
     },
     "metadata": {},
     "output_type": "display_data"
    },
    {
     "data": {
      "application/vnd.jupyter.widget-view+json": {
       "model_id": "",
       "version_major": 2,
       "version_minor": 0
      },
      "text/plain": [
       "HBox(children=(IntProgress(value=0, description='Writing...', max=2500, style=ProgressStyle(description_width=…"
      ]
     },
     "metadata": {},
     "output_type": "display_data"
    },
    {
     "data": {
      "application/vnd.jupyter.widget-view+json": {
       "model_id": "",
       "version_major": 2,
       "version_minor": 0
      },
      "text/plain": [
       "HBox(children=(IntProgress(value=1, bar_style='info', description='Reading...', max=1, style=ProgressStyle(des…"
      ]
     },
     "metadata": {},
     "output_type": "display_data"
    },
    {
     "data": {
      "application/vnd.jupyter.widget-view+json": {
       "model_id": "",
       "version_major": 2,
       "version_minor": 0
      },
      "text/plain": [
       "HBox(children=(IntProgress(value=0, description='Writing...', max=2500, style=ProgressStyle(description_width=…"
      ]
     },
     "metadata": {},
     "output_type": "display_data"
    },
    {
     "data": {
      "application/vnd.jupyter.widget-view+json": {
       "model_id": "",
       "version_major": 2,
       "version_minor": 0
      },
      "text/plain": [
       "HBox(children=(IntProgress(value=1, bar_style='info', description='Reading...', max=1, style=ProgressStyle(des…"
      ]
     },
     "metadata": {},
     "output_type": "display_data"
    },
    {
     "data": {
      "application/vnd.jupyter.widget-view+json": {
       "model_id": "",
       "version_major": 2,
       "version_minor": 0
      },
      "text/plain": [
       "HBox(children=(IntProgress(value=0, description='Writing...', max=2500, style=ProgressStyle(description_width=…"
      ]
     },
     "metadata": {},
     "output_type": "display_data"
    },
    {
     "data": {
      "application/vnd.jupyter.widget-view+json": {
       "model_id": "",
       "version_major": 2,
       "version_minor": 0
      },
      "text/plain": [
       "HBox(children=(IntProgress(value=1, bar_style='info', description='Reading...', max=1, style=ProgressStyle(des…"
      ]
     },
     "metadata": {},
     "output_type": "display_data"
    },
    {
     "data": {
      "application/vnd.jupyter.widget-view+json": {
       "model_id": "",
       "version_major": 2,
       "version_minor": 0
      },
      "text/plain": [
       "HBox(children=(IntProgress(value=0, description='Writing...', max=2500, style=ProgressStyle(description_width=…"
      ]
     },
     "metadata": {},
     "output_type": "display_data"
    },
    {
     "data": {
      "application/vnd.jupyter.widget-view+json": {
       "model_id": "",
       "version_major": 2,
       "version_minor": 0
      },
      "text/plain": [
       "HBox(children=(IntProgress(value=1, bar_style='info', description='Reading...', max=1, style=ProgressStyle(des…"
      ]
     },
     "metadata": {},
     "output_type": "display_data"
    },
    {
     "data": {
      "application/vnd.jupyter.widget-view+json": {
       "model_id": "",
       "version_major": 2,
       "version_minor": 0
      },
      "text/plain": [
       "HBox(children=(IntProgress(value=0, description='Writing...', max=2500, style=ProgressStyle(description_width=…"
      ]
     },
     "metadata": {},
     "output_type": "display_data"
    },
    {
     "data": {
      "application/vnd.jupyter.widget-view+json": {
       "model_id": "",
       "version_major": 2,
       "version_minor": 0
      },
      "text/plain": [
       "HBox(children=(IntProgress(value=1, bar_style='info', description='Reading...', max=1, style=ProgressStyle(des…"
      ]
     },
     "metadata": {},
     "output_type": "display_data"
    },
    {
     "data": {
      "application/vnd.jupyter.widget-view+json": {
       "model_id": "",
       "version_major": 2,
       "version_minor": 0
      },
      "text/plain": [
       "HBox(children=(IntProgress(value=0, description='Writing...', max=2500, style=ProgressStyle(description_width=…"
      ]
     },
     "metadata": {},
     "output_type": "display_data"
    },
    {
     "data": {
      "application/vnd.jupyter.widget-view+json": {
       "model_id": "",
       "version_major": 2,
       "version_minor": 0
      },
      "text/plain": [
       "HBox(children=(IntProgress(value=1, bar_style='info', description='Reading...', max=1, style=ProgressStyle(des…"
      ]
     },
     "metadata": {},
     "output_type": "display_data"
    },
    {
     "data": {
      "application/vnd.jupyter.widget-view+json": {
       "model_id": "",
       "version_major": 2,
       "version_minor": 0
      },
      "text/plain": [
       "HBox(children=(IntProgress(value=0, description='Writing...', max=2500, style=ProgressStyle(description_width=…"
      ]
     },
     "metadata": {},
     "output_type": "display_data"
    },
    {
     "data": {
      "application/vnd.jupyter.widget-view+json": {
       "model_id": "",
       "version_major": 2,
       "version_minor": 0
      },
      "text/plain": [
       "HBox(children=(IntProgress(value=1, bar_style='info', description='Reading...', max=1, style=ProgressStyle(des…"
      ]
     },
     "metadata": {},
     "output_type": "display_data"
    },
    {
     "data": {
      "application/vnd.jupyter.widget-view+json": {
       "model_id": "",
       "version_major": 2,
       "version_minor": 0
      },
      "text/plain": [
       "HBox(children=(IntProgress(value=0, description='Writing...', max=2500, style=ProgressStyle(description_width=…"
      ]
     },
     "metadata": {},
     "output_type": "display_data"
    },
    {
     "data": {
      "application/vnd.jupyter.widget-view+json": {
       "model_id": "",
       "version_major": 2,
       "version_minor": 0
      },
      "text/plain": [
       "HBox(children=(IntProgress(value=1, bar_style='info', description='Reading...', max=1, style=ProgressStyle(des…"
      ]
     },
     "metadata": {},
     "output_type": "display_data"
    },
    {
     "data": {
      "application/vnd.jupyter.widget-view+json": {
       "model_id": "",
       "version_major": 2,
       "version_minor": 0
      },
      "text/plain": [
       "HBox(children=(IntProgress(value=0, description='Writing...', max=2500, style=ProgressStyle(description_width=…"
      ]
     },
     "metadata": {},
     "output_type": "display_data"
    },
    {
     "name": "stdout",
     "output_type": "stream",
     "text": [
      "Dataset imdb_reviews downloaded and prepared to C:\\Users\\ABHI\\tensorflow_datasets\\imdb_reviews\\plain_text\\0.1.0. Subsequent calls will reuse this data.\n"
     ]
    }
   ],
   "source": [
    "(train_data, validation_data), test_data = tfds.load(name='imdb_reviews',\n",
    "         split=(tfds.Split.TRAIN.subsplit([6,4]),tfds.Split.TEST),       \n",
    "         as_supervised=True)                      \n",
    "\n",
    "     #split=(tfds.Split.TRAIN.subsplit([6,4]) MEANS SPLITING DATA INTO TRAINING(60) AND TESTING(40) DATA  "
   ]
  },
  {
   "cell_type": "code",
   "execution_count": 12,
   "metadata": {},
   "outputs": [
    {
     "data": {
      "text/plain": [
       "<tf.Tensor: id=219, shape=(10,), dtype=string, numpy=\n",
       "array([b\"As a lifelong fan of Dickens, I have invariably been disappointed by adaptations of his novels.<br /><br />Although his works presented an extremely accurate re-telling of human life at every level in Victorian Britain, throughout them all was a pervasive thread of humour that could be both playful or sarcastic as the narrative dictated. In a way, he was a literary caricaturist and cartoonist. He could be serious and hilarious in the same sentence. He pricked pride, lampooned arrogance, celebrated modesty, and empathised with loneliness and poverty. It may be a clich\\xc3\\xa9, but he was a people's writer.<br /><br />And it is the comedy that is so often missing from his interpretations. At the time of writing, Oliver Twist is being dramatised in serial form on BBC television. All of the misery and cruelty is their, but non of the humour, irony, and savage lampoonery. The result is just a dark, dismal experience: the story penned by a journalist rather than a novelist. It's not really Dickens at all.<br /><br />'Oliver!', on the other hand, is much closer to the mark. The mockery of officialdom is perfectly interpreted, from the blustering beadle to the drunken magistrate. The classic stand-off between the beadle and Mr Brownlow, in which the law is described as 'a ass, a idiot' couldn't have been better done. Harry Secombe is an ideal choice.<br /><br />But the blinding cruelty is also there, the callous indifference of the state, the cold, hunger, poverty and loneliness are all presented just as surely as The Master would have wished.<br /><br />And then there is crime. Ron Moody is a treasure as the sleazy Jewish fence, whilst Oliver Reid has Bill Sykes to perfection.<br /><br />Perhaps not surprisingly, Lionel Bart - himself a Jew from London's east-end - takes a liberty with Fagin by re-interpreting him as a much more benign fellow than was Dicken's original. In the novel, he was utterly ruthless, sending some of his own boys to the gallows in order to protect himself (though he was also caught and hanged). Whereas in the movie, he is presented as something of a wayward father-figure, a sort of charitable thief rather than a corrupter of children, the latter being a long-standing anti-semitic sentiment. Otherwise, very few liberties are taken with Dickens's original. All of the most memorable elements are included. Just enough menace and violence is retained to ensure narrative fidelity whilst at the same time allowing for children' sensibilities. Nancy is still beaten to death, Bullseye narrowly escapes drowning, and Bill Sykes gets a faithfully graphic come-uppance.<br /><br />Every song is excellent, though they do incline towards schmaltz. Mark Lester mimes his wonderfully. Both his and my favourite scene is the one in which the world comes alive to 'who will buy'. It's schmaltzy, but it's Dickens through and through.<br /><br />I could go on. I could commend the wonderful set-pieces, the contrast of the rich and poor. There is top-quality acting from more British regulars than you could shake a stick at.<br /><br />I ought to give it 10 points, but I'm feeling more like Scrooge today. Soak it up with your Christmas dinner. No original has been better realised.\",\n",
       "       b\"Oh yeah! Jenna Jameson did it again! Yeah Baby! This movie rocks. It was one of the 1st movies i saw of her. And i have to say i feel in love with her, she was great in this move.<br /><br />Her performance was outstanding and what i liked the most was the scenery and the wardrobe it was amazing you can tell that they put a lot into the movie the girls cloth were amazing.<br /><br />I hope this comment helps and u can buy the movie, the storyline is awesome is very unique and i'm sure u are going to like it. Jenna amazed us once more and no wonder the movie won so many awards. Her make-up and wardrobe is very very sexy and the girls on girls scene is amazing. specially the one where she looks like an angel. It's a must see and i hope u share my interests\",\n",
       "       b\"I saw this film on True Movies (which automatically made me sceptical) but actually - it was good. Why? Not because of the amazing plot twists or breathtaking dialogue (of which there is little) but because actually, despite what people say I thought the film was accurate in it's depiction of teenagers dealing with pregnancy.<br /><br />It's NOT Dawson's Creek, they're not graceful, cool witty characters who breeze through sexuality with effortless knowledge. They're kids and they act like kids would. <br /><br />They're blunt, awkward and annoyingly confused about everything. Yes, this could be by accident and they could just be bad actors but I don't think so. Dermot Mulroney gives (when not trying to be cool) a very believable performance and I loved him for it. Patricia Arquette IS whiny and annoying, but she was pregnant and a teenagers? The combination of the two isn't exactly lavender on your pillow. The plot was VERY predictable and but so what? I believed them, his stress and inability to cope - her brave, yet slightly misguided attempts to bring them closer together. I think the characters, acted by anyone else, WOULD indeed have been annoying and unbelievable but they weren't. It reflects the surreality of the situation they're in, that he's sitting in class and she walks on campus with the baby. I felt angry at her for that, I felt angry at him for being such a child and for blaming her. I felt it all.<br /><br />In the end, I loved it and would recommend it.<br /><br />Watch out for the scene where Dermot Mulroney runs from the disastrous counselling session - career performance.\",\n",
       "       b'This was a wonderfully clever and entertaining movie that I shall never tire of watching many, many times. The casting was magnificent in matching up the young with the older characters. There are those of us out here who really do appreciate good actors and an intelligent story format. As for Judi Dench, she is beautiful and a gift to any kind of production in which she stars. I always make a point to see Judi Dench in all her performances. She is a superb actress and a pleasure to watch as each transformation of her character comes to life. I can only be grateful when I see such an outstanding picture for most of the motion pictures made more recently lack good characters, good scripts and good acting. The movie public needs heroes, not deviant manikins, who lack ingenuity and talent. How wonderful to see old favorites like Leslie Caron, Olympia Dukakis and Cleo Laine. I would like to see this movie win the awards it deserves. Thank you again for a tremendous night of entertainment. I congratulate the writer, director, producer, and all those who did such a fine job.',\n",
       "       b'I have no idea what the other reviewer is talking about- this was a wonderful movie, and created a sense of the era that feels like time travel. The characters are truly young, Mary is a strong match for Byron, Claire is juvenile and a tad annoying, Polidori is a convincing beaten-down sycophant... all are beautiful, curious, and decadent... not the frightening wrecks they are in Gothic.<br /><br />Gothic works as an independent piece of shock film, and I loved it for different reasons, but this works like a Merchant and Ivory film, and was from my readings the best capture of what the summer must have felt like. Romantic, yes, but completely rekindles my interest in the lives of Shelley and Byron every time I think about the film. One of my all-time favorites.',\n",
       "       b\"This was soul-provoking! I am an Iranian, and living in th 21st century, I didn't know that such big tribes have been living in such conditions at the time of my grandfather!<br /><br />You see that today, or even in 1925, on one side of the world a lady or a baby could have everything served for him or her clean and on-demand, but here 80 years ago, people ventured their life to go to somewhere with more grass. It's really interesting that these Persians bear those difficulties to find pasture for their sheep, but they lose many the sheep on their way.<br /><br />I praise the Americans who accompanied this tribe, they were as tough as Bakhtiari people.\",\n",
       "       b'Just because someone is under the age of 10 does not mean they are stupid. If your child likes this film you\\'d better have him/her tested. I am continually amazed at how so many people can be involved in something that turns out so bad. This \"film\" is a showcase for digital wizardry AND NOTHING ELSE. The writing is horrid. I can\\'t remember when I\\'ve heard such bad dialogue. The songs are beyond wretched. The acting is sub-par but then the actors were not given much. Who decided to employ Joey Fatone? He cannot sing and he is ugly as sin.<br /><br />The worst thing is the obviousness of it all. It is as if the writers went out of their way to make it all as stupid as possible. Great children\\'s movies are wicked, smart and full of wit - films like Shrek and Toy Story in recent years, Willie Wonka and The Witches to mention two of the past. But in the continual dumbing-down of American more are flocking to dreck like Finding Nemo (yes, that\\'s right), the recent Charlie & The Chocolate Factory and eye-crossing trash like Red Riding Hood.',\n",
       "       b\"I absolutely LOVED this movie when I was a kid. I cried every time I watched it. It wasn't weird to me. I totally identified with the characters. I would love to see it again (and hope I wont be disappointed!). Pufnstuf rocks!!!! I was really drawn in to the fantasy world. And to me the movie was loooong. I wonder if I ever saw the series and have confused them? The acting I thought was strong. I loved Jack Wilde. He was so dreamy to an 10 year old (when I first saw the movie, not in 1970. I can still remember the characters vividly. The flute was totally believable and I can still 'feel' the evil woods. Witchy poo was scary - I wouldn't want to cross her path.\",\n",
       "       b'A very close and sharp discription of the bubbling and dynamic emotional world of specialy one 18year old guy, that makes his first experiences in his gay love to an other boy, during an vacation with a part of his family.<br /><br />I liked this film because of his extremly clear and surrogated storytelling , with all this \"Sound-close-ups\" and quiet moments wich had been full of intensive moods.<br /><br />',\n",
       "       b\"This is the most depressing film I have ever seen. I first saw it as a child and even thinking about it now really upsets me. I know it was set in a time when life was hard and I know these people were poor and the crops were vital. Yes, I get all that. What I find hard to take is I can't remember one single light moment in the entire film. Maybe it was true to life, I don't know. I'm quite sure the acting was top notch and the direction and quality of filming etc etc was wonderful and I know that every film can't have a happy ending but as a family film it is dire in my opinion.<br /><br />I wouldn't recommend it to anyone who wants to be entertained by a film. I can't stress enough how this film affected me as a child. I was talking about it recently and all the sad memories came flooding back. I think it would have all but the heartless reaching for the Prozac.\"],\n",
       "      dtype=object)>"
      ]
     },
     "execution_count": 12,
     "metadata": {},
     "output_type": "execute_result"
    }
   ],
   "source": [
    "train_examples_batch, train_labels_batch = next(iter(train_data.batch(10)))\n",
    "train_examples_batch"
   ]
  },
  {
   "cell_type": "code",
   "execution_count": 13,
   "metadata": {},
   "outputs": [
    {
     "data": {
      "text/plain": [
       "<tf.Tensor: id=220, shape=(10,), dtype=int64, numpy=array([1, 1, 1, 1, 1, 1, 0, 1, 1, 0], dtype=int64)>"
      ]
     },
     "execution_count": 13,
     "metadata": {},
     "output_type": "execute_result"
    }
   ],
   "source": [
    "train_labels_batch"
   ]
  },
  {
   "cell_type": "code",
   "execution_count": 14,
   "metadata": {},
   "outputs": [],
   "source": [
    "pretrained_model = \"https://tfhub.dev/google/tf2-preview/gnews-swivel-20dim/1\"\n",
    "hub_layer = hub.KerasLayer(pretrained_model, input_shape=[], dtype=tf.string, trainable=True)"
   ]
  },
  {
   "cell_type": "code",
   "execution_count": 15,
   "metadata": {},
   "outputs": [
    {
     "data": {
      "text/plain": [
       "<tf.Tensor: id=400, shape=(2, 20), dtype=float32, numpy=\n",
       "array([[ 3.9819887 , -4.4838037 ,  5.177359  , -2.3643482 , -3.2938678 ,\n",
       "        -3.5364532 , -2.4786978 ,  2.5525482 ,  6.688532  , -2.3076782 ,\n",
       "        -1.9807833 ,  1.1315885 , -3.0339816 , -0.7604128 , -5.743445  ,\n",
       "         3.4242578 ,  4.790099  , -4.03061   , -5.992149  , -1.7297493 ],\n",
       "       [ 3.4232912 , -4.230874  ,  4.1488533 , -0.29553518, -6.802391  ,\n",
       "        -2.5163853 , -4.4002395 ,  1.905792  ,  4.7512794 , -0.40538004,\n",
       "        -4.3401685 ,  1.0361497 ,  0.9744097 ,  0.71507156, -6.2657013 ,\n",
       "         0.16533905,  4.560262  , -1.3106939 , -3.1121316 , -2.1338716 ]],\n",
       "      dtype=float32)>"
      ]
     },
     "execution_count": 15,
     "metadata": {},
     "output_type": "execute_result"
    }
   ],
   "source": [
    "hub_layer(train_examples_batch[:2])"
   ]
  },
  {
   "cell_type": "code",
   "execution_count": 16,
   "metadata": {},
   "outputs": [
    {
     "data": {
      "text/plain": [
       "<tf.Tensor: id=404, shape=(2,), dtype=string, numpy=\n",
       "array([b\"As a lifelong fan of Dickens, I have invariably been disappointed by adaptations of his novels.<br /><br />Although his works presented an extremely accurate re-telling of human life at every level in Victorian Britain, throughout them all was a pervasive thread of humour that could be both playful or sarcastic as the narrative dictated. In a way, he was a literary caricaturist and cartoonist. He could be serious and hilarious in the same sentence. He pricked pride, lampooned arrogance, celebrated modesty, and empathised with loneliness and poverty. It may be a clich\\xc3\\xa9, but he was a people's writer.<br /><br />And it is the comedy that is so often missing from his interpretations. At the time of writing, Oliver Twist is being dramatised in serial form on BBC television. All of the misery and cruelty is their, but non of the humour, irony, and savage lampoonery. The result is just a dark, dismal experience: the story penned by a journalist rather than a novelist. It's not really Dickens at all.<br /><br />'Oliver!', on the other hand, is much closer to the mark. The mockery of officialdom is perfectly interpreted, from the blustering beadle to the drunken magistrate. The classic stand-off between the beadle and Mr Brownlow, in which the law is described as 'a ass, a idiot' couldn't have been better done. Harry Secombe is an ideal choice.<br /><br />But the blinding cruelty is also there, the callous indifference of the state, the cold, hunger, poverty and loneliness are all presented just as surely as The Master would have wished.<br /><br />And then there is crime. Ron Moody is a treasure as the sleazy Jewish fence, whilst Oliver Reid has Bill Sykes to perfection.<br /><br />Perhaps not surprisingly, Lionel Bart - himself a Jew from London's east-end - takes a liberty with Fagin by re-interpreting him as a much more benign fellow than was Dicken's original. In the novel, he was utterly ruthless, sending some of his own boys to the gallows in order to protect himself (though he was also caught and hanged). Whereas in the movie, he is presented as something of a wayward father-figure, a sort of charitable thief rather than a corrupter of children, the latter being a long-standing anti-semitic sentiment. Otherwise, very few liberties are taken with Dickens's original. All of the most memorable elements are included. Just enough menace and violence is retained to ensure narrative fidelity whilst at the same time allowing for children' sensibilities. Nancy is still beaten to death, Bullseye narrowly escapes drowning, and Bill Sykes gets a faithfully graphic come-uppance.<br /><br />Every song is excellent, though they do incline towards schmaltz. Mark Lester mimes his wonderfully. Both his and my favourite scene is the one in which the world comes alive to 'who will buy'. It's schmaltzy, but it's Dickens through and through.<br /><br />I could go on. I could commend the wonderful set-pieces, the contrast of the rich and poor. There is top-quality acting from more British regulars than you could shake a stick at.<br /><br />I ought to give it 10 points, but I'm feeling more like Scrooge today. Soak it up with your Christmas dinner. No original has been better realised.\",\n",
       "       b\"Oh yeah! Jenna Jameson did it again! Yeah Baby! This movie rocks. It was one of the 1st movies i saw of her. And i have to say i feel in love with her, she was great in this move.<br /><br />Her performance was outstanding and what i liked the most was the scenery and the wardrobe it was amazing you can tell that they put a lot into the movie the girls cloth were amazing.<br /><br />I hope this comment helps and u can buy the movie, the storyline is awesome is very unique and i'm sure u are going to like it. Jenna amazed us once more and no wonder the movie won so many awards. Her make-up and wardrobe is very very sexy and the girls on girls scene is amazing. specially the one where she looks like an angel. It's a must see and i hope u share my interests\"],\n",
       "      dtype=object)>"
      ]
     },
     "execution_count": 16,
     "metadata": {},
     "output_type": "execute_result"
    }
   ],
   "source": [
    "train_examples_batch[:2]"
   ]
  },
  {
   "cell_type": "code",
   "execution_count": 17,
   "metadata": {},
   "outputs": [
    {
     "name": "stdout",
     "output_type": "stream",
     "text": [
      "Model: \"sequential\"\n",
      "_________________________________________________________________\n",
      "Layer (type)                 Output Shape              Param #   \n",
      "=================================================================\n",
      "keras_layer (KerasLayer)     (None, 20)                400020    \n",
      "_________________________________________________________________\n",
      "dense (Dense)                (None, 16)                336       \n",
      "_________________________________________________________________\n",
      "dense_1 (Dense)              (None, 1)                 17        \n",
      "=================================================================\n",
      "Total params: 400,373\n",
      "Trainable params: 400,373\n",
      "Non-trainable params: 0\n",
      "_________________________________________________________________\n"
     ]
    }
   ],
   "source": [
    "model = tf.keras.Sequential()\n",
    "model.add(hub_layer)\n",
    "model.add(tf.keras.layers.Dense(16,activation=\"relu\"))\n",
    "model.add(tf.keras.layers.Dense(1,activation=\"sigmoid\"))\n",
    "model.summary()"
   ]
  },
  {
   "cell_type": "code",
   "execution_count": 18,
   "metadata": {},
   "outputs": [],
   "source": [
    "model.compile(optimizer='adam',\n",
    "              loss='binary_crossentropy',\n",
    "              metrics=['accuracy'])"
   ]
  },
  {
   "cell_type": "code",
   "execution_count": 19,
   "metadata": {},
   "outputs": [
    {
     "name": "stdout",
     "output_type": "stream",
     "text": [
      "Epoch 1/20\n",
      "30/30 [==============================].9071 - accuracy: 0.46 - 2s 875ms/step - loss: 0.9341 - accuracy: 0.440 - 2s 623ms/step - loss: 0.9286 - accuracy: 0.438 - 2s 498ms/step - loss: 0.9050 - accuracy: 0.436 - 2s 420ms/step - loss: 0.8955 - accuracy: 0.438 - 2s 367ms/step - loss: 0.8895 - accuracy: 0.440 - 2s 331ms/step - loss: 0.8805 - accuracy: 0.439 - 2s 303ms/step - loss: 0.8756 - accuracy: 0.440 - 3s 283ms/step - loss: 0.8677 - accuracy: 0.446 - 3s 263ms/step - loss: 0.8628 - accuracy: 0.447 - 3s 246ms/step - loss: 0.8560 - accuracy: 0.451 - 3s 232ms/step - loss: 0.8499 - accuracy: 0.454 - 3s 221ms/step - loss: 0.8426 - accuracy: 0.457 - 3s 211ms/step - loss: 0.8369 - accuracy: 0.459 - 3s 203ms/step - loss: 0.8300 - accuracy: 0.463 - 3s 195ms/step - loss: 0.8243 - accuracy: 0.469 - 3s 188ms/step - loss: 0.8213 - accuracy: 0.471 - 3s 182ms/step - loss: 0.8167 - accuracy: 0.473 - 3s 177ms/step - loss: 0.8113 - accuracy: 0.477 - 3s 172ms/step - loss: 0.8071 - accuracy: 0.480 - 4s 168ms/step - loss: 0.8025 - accuracy: 0.484 - 4s 164ms/step - loss: 0.7987 - accuracy: 0.486 - 4s 160ms/step - loss: 0.7933 - accuracy: 0.492 - 4s 157ms/step - loss: 0.7899 - accuracy: 0.494 - 4s 154ms/step - loss: 0.7851 - accuracy: 0.499 - 4s 151ms/step - loss: 0.7814 - accuracy: 0.501 - 4s 149ms/step - loss: 0.7779 - accuracy: 0.504 - 4s 146ms/step - loss: 0.7744 - accuracy: 0.506 - 4s 144ms/step - loss: 0.7698 - accuracy: 0.510 - 4s 140ms/step - loss: 0.7665 - accuracy: 0.511 - 6s 217ms/step - loss: 0.7665 - accuracy: 0.5115 - val_loss: 0.0000e+00 - val_accuracy: 0.0000e+00\n",
      "Epoch 2/20\n",
      "30/30 [==============================] - ETA: 18s - loss: 0.6836 - accuracy: 0.576 - ETA: 9s - loss: 0.6641 - accuracy: 0.597 - ETA: 6s - loss: 0.6509 - accuracy: 0.61 - ETA: 5s - loss: 0.6522 - accuracy: 0.61 - ETA: 4s - loss: 0.6479 - accuracy: 0.62 - ETA: 3s - loss: 0.6415 - accuracy: 0.63 - ETA: 3s - loss: 0.6381 - accuracy: 0.63 - ETA: 2s - loss: 0.6350 - accuracy: 0.64 - ETA: 2s - loss: 0.6377 - accuracy: 0.64 - ETA: 1s - loss: 0.6359 - accuracy: 0.64 - ETA: 1s - loss: 0.6338 - accuracy: 0.64 - ETA: 1s - loss: 0.6334 - accuracy: 0.64 - ETA: 1s - loss: 0.6323 - accuracy: 0.64 - ETA: 0s - loss: 0.6305 - accuracy: 0.64 - ETA: 0s - loss: 0.6302 - accuracy: 0.64 - ETA: 0s - loss: 0.6289 - accuracy: 0.64 - ETA: 0s - loss: 0.6290 - accuracy: 0.64 - ETA: 0s - loss: 0.6277 - accuracy: 0.64 - ETA: 0s - loss: 0.6263 - accuracy: 0.64 - 5s 177ms/step - loss: 0.6226 - accuracy: 0.6603 - val_loss: 0.5842 - val_accuracy: 0.6960\n",
      "Epoch 3/20\n",
      "30/30 [==============================] - ETA: 16s - loss: 0.5737 - accuracy: 0.707 - ETA: 9s - loss: 0.5882 - accuracy: 0.692 - ETA: 6s - loss: 0.5804 - accuracy: 0.69 - ETA: 5s - loss: 0.5813 - accuracy: 0.69 - ETA: 4s - loss: 0.5794 - accuracy: 0.70 - ETA: 3s - loss: 0.5778 - accuracy: 0.70 - ETA: 3s - loss: 0.5755 - accuracy: 0.70 - ETA: 2s - loss: 0.5766 - accuracy: 0.70 - ETA: 2s - loss: 0.5744 - accuracy: 0.70 - ETA: 1s - loss: 0.5737 - accuracy: 0.70 - ETA: 1s - loss: 0.5742 - accuracy: 0.70 - ETA: 1s - loss: 0.5724 - accuracy: 0.70 - ETA: 1s - loss: 0.5723 - accuracy: 0.70 - ETA: 0s - loss: 0.5717 - accuracy: 0.70 - ETA: 0s - loss: 0.5732 - accuracy: 0.70 - ETA: 0s - loss: 0.5714 - accuracy: 0.70 - ETA: 0s - loss: 0.5727 - accuracy: 0.70 - ETA: 0s - loss: 0.5729 - accuracy: 0.70 - ETA: 0s - loss: 0.5713 - accuracy: 0.70 - 5s 183ms/step - loss: 0.5700 - accuracy: 0.7117 - val_loss: 0.5518 - val_accuracy: 0.7307\n",
      "Epoch 4/20\n",
      "30/30 [==============================] - ETA: 18s - loss: 0.5553 - accuracy: 0.710 - ETA: 9s - loss: 0.5591 - accuracy: 0.717 - ETA: 6s - loss: 0.5515 - accuracy: 0.72 - ETA: 5s - loss: 0.5542 - accuracy: 0.71 - ETA: 4s - loss: 0.5513 - accuracy: 0.71 - ETA: 3s - loss: 0.5510 - accuracy: 0.72 - ETA: 3s - loss: 0.5482 - accuracy: 0.72 - ETA: 2s - loss: 0.5445 - accuracy: 0.72 - ETA: 2s - loss: 0.5435 - accuracy: 0.72 - ETA: 2s - loss: 0.5437 - accuracy: 0.72 - ETA: 1s - loss: 0.5437 - accuracy: 0.72 - ETA: 1s - loss: 0.5440 - accuracy: 0.72 - ETA: 1s - loss: 0.5413 - accuracy: 0.73 - ETA: 1s - loss: 0.5406 - accuracy: 0.73 - ETA: 0s - loss: 0.5388 - accuracy: 0.73 - ETA: 0s - loss: 0.5389 - accuracy: 0.73 - ETA: 0s - loss: 0.5388 - accuracy: 0.73 - ETA: 0s - loss: 0.5366 - accuracy: 0.73 - ETA: 0s - loss: 0.5362 - accuracy: 0.73 - 6s 191ms/step - loss: 0.5355 - accuracy: 0.7405 - val_loss: 0.5234 - val_accuracy: 0.7505\n",
      "Epoch 5/20\n",
      "30/30 [==============================] - ETA: 17s - loss: 0.5169 - accuracy: 0.746 - ETA: 9s - loss: 0.5111 - accuracy: 0.758 - ETA: 6s - loss: 0.5080 - accuracy: 0.75 - ETA: 5s - loss: 0.5081 - accuracy: 0.75 - ETA: 4s - loss: 0.5078 - accuracy: 0.75 - ETA: 3s - loss: 0.5061 - accuracy: 0.76 - ETA: 3s - loss: 0.5054 - accuracy: 0.76 - ETA: 2s - loss: 0.5075 - accuracy: 0.75 - ETA: 2s - loss: 0.5088 - accuracy: 0.75 - ETA: 2s - loss: 0.5098 - accuracy: 0.75 - ETA: 1s - loss: 0.5072 - accuracy: 0.75 - ETA: 1s - loss: 0.5078 - accuracy: 0.75 - ETA: 1s - loss: 0.5076 - accuracy: 0.75 - ETA: 1s - loss: 0.5079 - accuracy: 0.75 - ETA: 0s - loss: 0.5076 - accuracy: 0.75 - ETA: 0s - loss: 0.5095 - accuracy: 0.75 - ETA: 0s - loss: 0.5109 - accuracy: 0.75 - ETA: 0s - loss: 0.5109 - accuracy: 0.75 - ETA: 0s - loss: 0.5105 - accuracy: 0.75 - 5s 181ms/step - loss: 0.5080 - accuracy: 0.7629 - val_loss: 0.4966 - val_accuracy: 0.7698\n",
      "Epoch 6/20\n",
      "30/30 [==============================] - ETA: 17s - loss: 0.4727 - accuracy: 0.787 - ETA: 9s - loss: 0.4808 - accuracy: 0.786 - ETA: 6s - loss: 0.4833 - accuracy: 0.78 - ETA: 5s - loss: 0.4802 - accuracy: 0.78 - ETA: 4s - loss: 0.4844 - accuracy: 0.77 - ETA: 3s - loss: 0.4850 - accuracy: 0.77 - ETA: 3s - loss: 0.4855 - accuracy: 0.77 - ETA: 2s - loss: 0.4859 - accuracy: 0.77 - ETA: 2s - loss: 0.4849 - accuracy: 0.77 - ETA: 1s - loss: 0.4856 - accuracy: 0.77 - ETA: 1s - loss: 0.4840 - accuracy: 0.77 - ETA: 1s - loss: 0.4827 - accuracy: 0.77 - ETA: 1s - loss: 0.4837 - accuracy: 0.77 - ETA: 0s - loss: 0.4854 - accuracy: 0.77 - ETA: 0s - loss: 0.4844 - accuracy: 0.77 - ETA: 0s - loss: 0.4829 - accuracy: 0.77 - ETA: 0s - loss: 0.4842 - accuracy: 0.77 - ETA: 0s - loss: 0.4849 - accuracy: 0.77 - ETA: 0s - loss: 0.4826 - accuracy: 0.77 - 5s 175ms/step - loss: 0.4789 - accuracy: 0.7859 - val_loss: 0.4736 - val_accuracy: 0.7829\n",
      "Epoch 7/20\n",
      "30/30 [==============================] - ETA: 18s - loss: 0.4724 - accuracy: 0.793 - ETA: 9s - loss: 0.4677 - accuracy: 0.796 - ETA: 6s - loss: 0.4721 - accuracy: 0.78 - ETA: 5s - loss: 0.4683 - accuracy: 0.78 - ETA: 4s - loss: 0.4627 - accuracy: 0.79 - ETA: 3s - loss: 0.4598 - accuracy: 0.79 - ETA: 3s - loss: 0.4554 - accuracy: 0.79 - ETA: 2s - loss: 0.4540 - accuracy: 0.79 - ETA: 2s - loss: 0.4514 - accuracy: 0.80 - ETA: 2s - loss: 0.4521 - accuracy: 0.80 - ETA: 1s - loss: 0.4513 - accuracy: 0.80 - ETA: 1s - loss: 0.4495 - accuracy: 0.80 - ETA: 1s - loss: 0.4472 - accuracy: 0.80 - ETA: 1s - loss: 0.4487 - accuracy: 0.80 - ETA: 0s - loss: 0.4484 - accuracy: 0.80 - ETA: 0s - loss: 0.4492 - accuracy: 0.80 - ETA: 0s - loss: 0.4485 - accuracy: 0.80 - ETA: 0s - loss: 0.4486 - accuracy: 0.80 - ETA: 0s - loss: 0.4474 - accuracy: 0.80 - 5s 181ms/step - loss: 0.4456 - accuracy: 0.8079 - val_loss: 0.4456 - val_accuracy: 0.7998\n",
      "Epoch 8/20\n",
      "30/30 [==============================] - ETA: 19s - loss: 0.4206 - accuracy: 0.824 - ETA: 10s - loss: 0.4185 - accuracy: 0.825 - ETA: 7s - loss: 0.4211 - accuracy: 0.824 - ETA: 5s - loss: 0.4192 - accuracy: 0.82 - ETA: 4s - loss: 0.4245 - accuracy: 0.81 - ETA: 3s - loss: 0.4251 - accuracy: 0.81 - ETA: 3s - loss: 0.4279 - accuracy: 0.81 - ETA: 2s - loss: 0.4279 - accuracy: 0.81 - ETA: 2s - loss: 0.4258 - accuracy: 0.81 - ETA: 2s - loss: 0.4250 - accuracy: 0.81 - ETA: 1s - loss: 0.4239 - accuracy: 0.81 - ETA: 1s - loss: 0.4232 - accuracy: 0.81 - ETA: 1s - loss: 0.4227 - accuracy: 0.81 - ETA: 1s - loss: 0.4219 - accuracy: 0.81 - ETA: 0s - loss: 0.4228 - accuracy: 0.81 - ETA: 0s - loss: 0.4231 - accuracy: 0.81 - ETA: 0s - loss: 0.4225 - accuracy: 0.81 - ETA: 0s - loss: 0.4216 - accuracy: 0.81 - ETA: 0s - loss: 0.4205 - accuracy: 0.81 - 6s 188ms/step - loss: 0.4175 - accuracy: 0.8248 - val_loss: 0.4230 - val_accuracy: 0.8141\n"
     ]
    },
    {
     "name": "stdout",
     "output_type": "stream",
     "text": [
      "Epoch 9/20\n",
      "30/30 [==============================] - ETA: 18s - loss: 0.3980 - accuracy: 0.841 - ETA: 9s - loss: 0.4064 - accuracy: 0.830 - ETA: 6s - loss: 0.4044 - accuracy: 0.83 - ETA: 5s - loss: 0.3963 - accuracy: 0.83 - ETA: 4s - loss: 0.3938 - accuracy: 0.84 - ETA: 3s - loss: 0.3940 - accuracy: 0.83 - ETA: 3s - loss: 0.3931 - accuracy: 0.83 - ETA: 2s - loss: 0.3911 - accuracy: 0.84 - ETA: 2s - loss: 0.3905 - accuracy: 0.84 - ETA: 1s - loss: 0.3903 - accuracy: 0.84 - ETA: 1s - loss: 0.3872 - accuracy: 0.84 - ETA: 1s - loss: 0.3866 - accuracy: 0.84 - ETA: 1s - loss: 0.3866 - accuracy: 0.84 - ETA: 0s - loss: 0.3850 - accuracy: 0.84 - ETA: 0s - loss: 0.3838 - accuracy: 0.84 - ETA: 0s - loss: 0.3839 - accuracy: 0.84 - ETA: 0s - loss: 0.3831 - accuracy: 0.84 - ETA: 0s - loss: 0.3832 - accuracy: 0.84 - ETA: 0s - loss: 0.3829 - accuracy: 0.84 - 5s 176ms/step - loss: 0.3832 - accuracy: 0.8433 - val_loss: 0.3997 - val_accuracy: 0.8263\n",
      "Epoch 10/20\n",
      "30/30 [==============================] - ETA: 18s - loss: 0.3865 - accuracy: 0.834 - ETA: 9s - loss: 0.3794 - accuracy: 0.845 - ETA: 6s - loss: 0.3828 - accuracy: 0.84 - ETA: 5s - loss: 0.3783 - accuracy: 0.84 - ETA: 4s - loss: 0.3668 - accuracy: 0.85 - ETA: 3s - loss: 0.3648 - accuracy: 0.85 - ETA: 3s - loss: 0.3650 - accuracy: 0.85 - ETA: 2s - loss: 0.3656 - accuracy: 0.85 - ETA: 2s - loss: 0.3645 - accuracy: 0.85 - ETA: 1s - loss: 0.3649 - accuracy: 0.85 - ETA: 1s - loss: 0.3661 - accuracy: 0.85 - ETA: 1s - loss: 0.3632 - accuracy: 0.85 - ETA: 1s - loss: 0.3623 - accuracy: 0.86 - ETA: 0s - loss: 0.3605 - accuracy: 0.86 - ETA: 0s - loss: 0.3617 - accuracy: 0.86 - ETA: 0s - loss: 0.3602 - accuracy: 0.86 - ETA: 0s - loss: 0.3589 - accuracy: 0.86 - ETA: 0s - loss: 0.3576 - accuracy: 0.86 - ETA: 0s - loss: 0.3569 - accuracy: 0.86 - 5s 179ms/step - loss: 0.3569 - accuracy: 0.8589 - val_loss: 0.3807 - val_accuracy: 0.8375\n",
      "Epoch 11/20\n",
      "30/30 [==============================] - ETA: 15s - loss: 0.3252 - accuracy: 0.871 - ETA: 8s - loss: 0.3461 - accuracy: 0.860 - ETA: 6s - loss: 0.3402 - accuracy: 0.86 - ETA: 4s - loss: 0.3419 - accuracy: 0.86 - ETA: 3s - loss: 0.3391 - accuracy: 0.86 - ETA: 3s - loss: 0.3435 - accuracy: 0.86 - ETA: 2s - loss: 0.3381 - accuracy: 0.86 - ETA: 2s - loss: 0.3377 - accuracy: 0.86 - ETA: 2s - loss: 0.3368 - accuracy: 0.86 - ETA: 1s - loss: 0.3358 - accuracy: 0.86 - ETA: 1s - loss: 0.3339 - accuracy: 0.86 - ETA: 1s - loss: 0.3309 - accuracy: 0.87 - ETA: 1s - loss: 0.3284 - accuracy: 0.87 - ETA: 0s - loss: 0.3275 - accuracy: 0.87 - ETA: 0s - loss: 0.3282 - accuracy: 0.87 - ETA: 0s - loss: 0.3295 - accuracy: 0.87 - ETA: 0s - loss: 0.3301 - accuracy: 0.86 - ETA: 0s - loss: 0.3306 - accuracy: 0.86 - ETA: 0s - loss: 0.3307 - accuracy: 0.86 - 5s 173ms/step - loss: 0.3313 - accuracy: 0.8691 - val_loss: 0.3640 - val_accuracy: 0.8466\n",
      "Epoch 12/20\n",
      "30/30 [==============================] - ETA: 19s - loss: 0.3045 - accuracy: 0.888 - ETA: 10s - loss: 0.3232 - accuracy: 0.879 - ETA: 7s - loss: 0.3176 - accuracy: 0.881 - ETA: 5s - loss: 0.3199 - accuracy: 0.87 - ETA: 4s - loss: 0.3133 - accuracy: 0.87 - ETA: 3s - loss: 0.3137 - accuracy: 0.87 - ETA: 3s - loss: 0.3150 - accuracy: 0.87 - ETA: 2s - loss: 0.3164 - accuracy: 0.87 - ETA: 2s - loss: 0.3140 - accuracy: 0.87 - ETA: 2s - loss: 0.3136 - accuracy: 0.88 - ETA: 1s - loss: 0.3083 - accuracy: 0.88 - ETA: 1s - loss: 0.3078 - accuracy: 0.88 - ETA: 1s - loss: 0.3090 - accuracy: 0.88 - ETA: 1s - loss: 0.3101 - accuracy: 0.88 - ETA: 0s - loss: 0.3111 - accuracy: 0.88 - ETA: 0s - loss: 0.3106 - accuracy: 0.88 - ETA: 0s - loss: 0.3114 - accuracy: 0.88 - ETA: 0s - loss: 0.3109 - accuracy: 0.88 - ETA: 0s - loss: 0.3118 - accuracy: 0.88 - 6s 186ms/step - loss: 0.3109 - accuracy: 0.8817 - val_loss: 0.3518 - val_accuracy: 0.8498\n",
      "Epoch 13/20\n",
      "30/30 [==============================] - ETA: 19s - loss: 0.2811 - accuracy: 0.896 - ETA: 10s - loss: 0.2865 - accuracy: 0.889 - ETA: 7s - loss: 0.2840 - accuracy: 0.887 - ETA: 5s - loss: 0.2930 - accuracy: 0.87 - ETA: 4s - loss: 0.2906 - accuracy: 0.88 - ETA: 3s - loss: 0.2872 - accuracy: 0.88 - ETA: 3s - loss: 0.2891 - accuracy: 0.88 - ETA: 2s - loss: 0.2889 - accuracy: 0.88 - ETA: 2s - loss: 0.2895 - accuracy: 0.88 - ETA: 2s - loss: 0.2882 - accuracy: 0.88 - ETA: 1s - loss: 0.2913 - accuracy: 0.88 - ETA: 1s - loss: 0.2909 - accuracy: 0.88 - ETA: 1s - loss: 0.2895 - accuracy: 0.88 - ETA: 1s - loss: 0.2892 - accuracy: 0.88 - ETA: 0s - loss: 0.2894 - accuracy: 0.88 - ETA: 0s - loss: 0.2900 - accuracy: 0.88 - ETA: 0s - loss: 0.2906 - accuracy: 0.88 - ETA: 0s - loss: 0.2923 - accuracy: 0.88 - ETA: 0s - loss: 0.2915 - accuracy: 0.88 - 6s 185ms/step - loss: 0.2908 - accuracy: 0.8894 - val_loss: 0.3376 - val_accuracy: 0.8579\n",
      "Epoch 14/20\n",
      "30/30 [==============================] - ETA: 18s - loss: 0.2633 - accuracy: 0.906 - ETA: 9s - loss: 0.2696 - accuracy: 0.900 - ETA: 6s - loss: 0.2651 - accuracy: 0.90 - ETA: 5s - loss: 0.2717 - accuracy: 0.89 - ETA: 4s - loss: 0.2669 - accuracy: 0.89 - ETA: 3s - loss: 0.2673 - accuracy: 0.89 - ETA: 3s - loss: 0.2677 - accuracy: 0.89 - ETA: 2s - loss: 0.2702 - accuracy: 0.89 - ETA: 2s - loss: 0.2683 - accuracy: 0.89 - ETA: 2s - loss: 0.2654 - accuracy: 0.89 - ETA: 1s - loss: 0.2703 - accuracy: 0.89 - ETA: 1s - loss: 0.2697 - accuracy: 0.89 - ETA: 1s - loss: 0.2712 - accuracy: 0.89 - ETA: 0s - loss: 0.2722 - accuracy: 0.89 - ETA: 0s - loss: 0.2723 - accuracy: 0.89 - ETA: 0s - loss: 0.2714 - accuracy: 0.89 - ETA: 0s - loss: 0.2716 - accuracy: 0.89 - ETA: 0s - loss: 0.2708 - accuracy: 0.89 - ETA: 0s - loss: 0.2699 - accuracy: 0.89 - 5s 179ms/step - loss: 0.2698 - accuracy: 0.8969 - val_loss: 0.3274 - val_accuracy: 0.8615\n",
      "Epoch 15/20\n",
      "30/30 [==============================] - ETA: 17s - loss: 0.2372 - accuracy: 0.918 - ETA: 9s - loss: 0.2436 - accuracy: 0.912 - ETA: 6s - loss: 0.2453 - accuracy: 0.90 - ETA: 5s - loss: 0.2445 - accuracy: 0.90 - ETA: 4s - loss: 0.2447 - accuracy: 0.90 - ETA: 3s - loss: 0.2463 - accuracy: 0.90 - ETA: 3s - loss: 0.2536 - accuracy: 0.90 - ETA: 2s - loss: 0.2531 - accuracy: 0.90 - ETA: 2s - loss: 0.2543 - accuracy: 0.90 - ETA: 1s - loss: 0.2548 - accuracy: 0.90 - ETA: 1s - loss: 0.2537 - accuracy: 0.90 - ETA: 1s - loss: 0.2544 - accuracy: 0.90 - ETA: 1s - loss: 0.2548 - accuracy: 0.90 - ETA: 0s - loss: 0.2544 - accuracy: 0.90 - ETA: 0s - loss: 0.2545 - accuracy: 0.90 - ETA: 0s - loss: 0.2538 - accuracy: 0.90 - ETA: 0s - loss: 0.2528 - accuracy: 0.90 - ETA: 0s - loss: 0.2514 - accuracy: 0.90 - ETA: 0s - loss: 0.2531 - accuracy: 0.90 - 5s 181ms/step - loss: 0.2529 - accuracy: 0.9061 - val_loss: 0.3197 - val_accuracy: 0.8648\n",
      "Epoch 16/20\n",
      "30/30 [==============================] - ETA: 20s - loss: 0.2452 - accuracy: 0.910 - ETA: 11s - loss: 0.2507 - accuracy: 0.903 - ETA: 8s - loss: 0.2463 - accuracy: 0.909 - ETA: 6s - loss: 0.2453 - accuracy: 0.90 - ETA: 5s - loss: 0.2434 - accuracy: 0.90 - ETA: 4s - loss: 0.2412 - accuracy: 0.91 - ETA: 3s - loss: 0.2443 - accuracy: 0.90 - ETA: 3s - loss: 0.2483 - accuracy: 0.90 - ETA: 2s - loss: 0.2483 - accuracy: 0.90 - ETA: 2s - loss: 0.2454 - accuracy: 0.90 - ETA: 1s - loss: 0.2439 - accuracy: 0.90 - ETA: 1s - loss: 0.2432 - accuracy: 0.90 - ETA: 1s - loss: 0.2435 - accuracy: 0.90 - ETA: 1s - loss: 0.2430 - accuracy: 0.90 - ETA: 0s - loss: 0.2405 - accuracy: 0.91 - ETA: 0s - loss: 0.2407 - accuracy: 0.91 - ETA: 0s - loss: 0.2407 - accuracy: 0.91 - ETA: 0s - loss: 0.2413 - accuracy: 0.91 - ETA: 0s - loss: 0.2401 - accuracy: 0.91 - 6s 185ms/step - loss: 0.2390 - accuracy: 0.9125 - val_loss: 0.3159 - val_accuracy: 0.8676\n",
      "Epoch 17/20\n"
     ]
    },
    {
     "name": "stdout",
     "output_type": "stream",
     "text": [
      "30/30 [==============================] - ETA: 15s - loss: 0.2358 - accuracy: 0.925 - ETA: 8s - loss: 0.2324 - accuracy: 0.918 - ETA: 5s - loss: 0.2335 - accuracy: 0.91 - ETA: 4s - loss: 0.2331 - accuracy: 0.91 - ETA: 3s - loss: 0.2354 - accuracy: 0.91 - ETA: 3s - loss: 0.2301 - accuracy: 0.91 - ETA: 2s - loss: 0.2276 - accuracy: 0.91 - ETA: 2s - loss: 0.2257 - accuracy: 0.91 - ETA: 2s - loss: 0.2268 - accuracy: 0.91 - ETA: 1s - loss: 0.2268 - accuracy: 0.91 - ETA: 1s - loss: 0.2270 - accuracy: 0.91 - ETA: 1s - loss: 0.2258 - accuracy: 0.91 - ETA: 1s - loss: 0.2240 - accuracy: 0.91 - ETA: 0s - loss: 0.2249 - accuracy: 0.91 - ETA: 0s - loss: 0.2265 - accuracy: 0.91 - ETA: 0s - loss: 0.2264 - accuracy: 0.91 - ETA: 0s - loss: 0.2249 - accuracy: 0.91 - ETA: 0s - loss: 0.2250 - accuracy: 0.91 - ETA: 0s - loss: 0.2262 - accuracy: 0.91 - 6s 207ms/step - loss: 0.2250 - accuracy: 0.9208 - val_loss: 0.3069 - val_accuracy: 0.8716\n",
      "Epoch 18/20\n",
      "30/30 [==============================] - ETA: 20s - loss: 0.1828 - accuracy: 0.937 - ETA: 10s - loss: 0.2088 - accuracy: 0.923 - ETA: 7s - loss: 0.2114 - accuracy: 0.925 - ETA: 5s - loss: 0.2189 - accuracy: 0.92 - ETA: 4s - loss: 0.2208 - accuracy: 0.91 - ETA: 3s - loss: 0.2198 - accuracy: 0.91 - ETA: 3s - loss: 0.2166 - accuracy: 0.92 - ETA: 2s - loss: 0.2175 - accuracy: 0.92 - ETA: 2s - loss: 0.2169 - accuracy: 0.92 - ETA: 2s - loss: 0.2149 - accuracy: 0.92 - ETA: 1s - loss: 0.2128 - accuracy: 0.92 - ETA: 1s - loss: 0.2134 - accuracy: 0.92 - ETA: 1s - loss: 0.2105 - accuracy: 0.92 - ETA: 1s - loss: 0.2095 - accuracy: 0.92 - ETA: 0s - loss: 0.2087 - accuracy: 0.92 - ETA: 0s - loss: 0.2085 - accuracy: 0.92 - ETA: 0s - loss: 0.2098 - accuracy: 0.92 - ETA: 0s - loss: 0.2096 - accuracy: 0.92 - ETA: 0s - loss: 0.2112 - accuracy: 0.92 - 6s 194ms/step - loss: 0.2107 - accuracy: 0.9253 - val_loss: 0.3025 - val_accuracy: 0.8718\n",
      "Epoch 19/20\n",
      "30/30 [==============================] - ETA: 19s - loss: 0.2001 - accuracy: 0.918 - ETA: 10s - loss: 0.2042 - accuracy: 0.920 - ETA: 7s - loss: 0.1950 - accuracy: 0.928 - ETA: 5s - loss: 0.1959 - accuracy: 0.92 - ETA: 4s - loss: 0.1924 - accuracy: 0.93 - ETA: 3s - loss: 0.1952 - accuracy: 0.93 - ETA: 3s - loss: 0.1963 - accuracy: 0.93 - ETA: 2s - loss: 0.1986 - accuracy: 0.92 - ETA: 2s - loss: 0.1988 - accuracy: 0.92 - ETA: 2s - loss: 0.1972 - accuracy: 0.92 - ETA: 1s - loss: 0.2003 - accuracy: 0.92 - ETA: 1s - loss: 0.1996 - accuracy: 0.92 - ETA: 1s - loss: 0.1995 - accuracy: 0.92 - ETA: 1s - loss: 0.2005 - accuracy: 0.92 - ETA: 0s - loss: 0.1993 - accuracy: 0.92 - ETA: 0s - loss: 0.2003 - accuracy: 0.92 - ETA: 0s - loss: 0.2001 - accuracy: 0.92 - ETA: 0s - loss: 0.1998 - accuracy: 0.92 - ETA: 0s - loss: 0.2016 - accuracy: 0.92 - 6s 208ms/step - loss: 0.2000 - accuracy: 0.9311 - val_loss: 0.3008 - val_accuracy: 0.8747\n",
      "Epoch 20/20\n",
      "30/30 [==============================] - ETA: 21s - loss: 0.1874 - accuracy: 0.933 - ETA: 11s - loss: 0.1790 - accuracy: 0.934 - ETA: 7s - loss: 0.1833 - accuracy: 0.929 - ETA: 5s - loss: 0.1843 - accuracy: 0.93 - ETA: 4s - loss: 0.1819 - accuracy: 0.93 - ETA: 4s - loss: 0.1830 - accuracy: 0.93 - ETA: 3s - loss: 0.1833 - accuracy: 0.93 - ETA: 2s - loss: 0.1875 - accuracy: 0.93 - ETA: 2s - loss: 0.1889 - accuracy: 0.93 - ETA: 2s - loss: 0.1880 - accuracy: 0.93 - ETA: 1s - loss: 0.1878 - accuracy: 0.93 - ETA: 1s - loss: 0.1877 - accuracy: 0.93 - ETA: 1s - loss: 0.1881 - accuracy: 0.93 - ETA: 1s - loss: 0.1881 - accuracy: 0.93 - ETA: 0s - loss: 0.1891 - accuracy: 0.93 - ETA: 0s - loss: 0.1887 - accuracy: 0.93 - ETA: 0s - loss: 0.1869 - accuracy: 0.93 - ETA: 0s - loss: 0.1863 - accuracy: 0.93 - ETA: 0s - loss: 0.1876 - accuracy: 0.93 - 6s 214ms/step - loss: 0.1869 - accuracy: 0.9365 - val_loss: 0.2973 - val_accuracy: 0.8768\n"
     ]
    },
    {
     "data": {
      "text/plain": [
       "<tensorflow.python.keras.callbacks.History at 0x11029f73e48>"
      ]
     },
     "execution_count": 19,
     "metadata": {},
     "output_type": "execute_result"
    }
   ],
   "source": [
    "model.fit(train_data.shuffle(10000).batch(512),\n",
    "         epochs=20,\n",
    "         validation_data=validation_data.batch(512),\n",
    "         verbose=1)"
   ]
  },
  {
   "cell_type": "code",
   "execution_count": 20,
   "metadata": {},
   "outputs": [
    {
     "data": {
      "text/plain": [
       "array([[0.16445199],\n",
       "       [0.9904896 ],\n",
       "       [0.01526064]], dtype=float32)"
      ]
     },
     "execution_count": 20,
     "metadata": {},
     "output_type": "execute_result"
    }
   ],
   "source": [
    "model.predict([\"This is the worst movie I have ever seen\",\n",
    "              \"An excellent movie that I enjoyed a lot\",\n",
    "              \"how can one make such a horrible movie? there is no story, acting direction everything is very poor\"])"
   ]
  },
  {
   "cell_type": "code",
   "execution_count": 21,
   "metadata": {},
   "outputs": [
    {
     "data": {
      "text/plain": [
       "array([[0.9904896]], dtype=float32)"
      ]
     },
     "execution_count": 21,
     "metadata": {},
     "output_type": "execute_result"
    }
   ],
   "source": [
    "model.predict([\"An excellent movie that I enjoyed a lot\"])"
   ]
  },
  {
   "cell_type": "code",
   "execution_count": null,
   "metadata": {},
   "outputs": [],
   "source": []
  }
 ],
 "metadata": {
  "kernelspec": {
   "display_name": "Python 3",
   "language": "python",
   "name": "python3"
  },
  "language_info": {
   "codemirror_mode": {
    "name": "ipython",
    "version": 3
   },
   "file_extension": ".py",
   "mimetype": "text/x-python",
   "name": "python",
   "nbconvert_exporter": "python",
   "pygments_lexer": "ipython3",
   "version": "3.7.3"
  }
 },
 "nbformat": 4,
 "nbformat_minor": 2
}
